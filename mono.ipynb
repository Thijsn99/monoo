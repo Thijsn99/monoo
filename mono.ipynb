{
 "cells": [
  {
   "cell_type": "markdown",
   "id": "8dfc80c3",
   "metadata": {},
   "source": [
    "<figure>\n",
    "  <IMG SRC=\"https://raw.githubusercontent.com/mbakker7/exploratory_computing_with_python/master/tudelft_logo.png\" WIDTH=250 ALIGN=\"right\">\n",
    "  <IMG SRC = \"https://www.corrosionalliance.com/wp-content/uploads/2021/06/nebest.png\" WIDTH=250 ALIGN=\"left\">\n",
    "<figure>\n",
    "     \n",
    "#  \n",
    "#    \n",
    "#     \n",
    "# Reuse of monolithic floors \n",
    "*Developed by Thijs Noordhoek*\n",
    "> The reuse potentials of monolithic floors concerning technical, environmental, and econimical aspects."
   ]
  },
  {
   "cell_type": "code",
   "execution_count": 1,
   "id": "caadddb7",
   "metadata": {},
   "outputs": [],
   "source": [
    "import numpy as np\n",
    "import matplotlib.pyplot as plt\n",
    "%matplotlib inline\n",
    "import ipywidgets as widgets\n",
    "from ipywidgets import *\n",
    "from ipywidgets import HBox\n",
    "import pandas as pd \n",
    "from pandas import read_csv\n",
    "import colorama\n",
    "from colorama import Fore\n",
    "from sympy import symbols, Eq, solve\n",
    "from IPython.display import Javascript, display"
   ]
  },
  {
   "cell_type": "markdown",
   "id": "ae174788",
   "metadata": {},
   "source": [
    "# Input parameters "
   ]
  },
  {
   "cell_type": "code",
   "execution_count": 2,
   "id": "802b07f6",
   "metadata": {},
   "outputs": [],
   "source": [
    "stl = {'description_width': '210px'}"
   ]
  },
  {
   "cell_type": "markdown",
   "id": "1be09278",
   "metadata": {},
   "source": [
    "#### Dimensions and equipment  "
   ]
  },
  {
   "cell_type": "code",
   "execution_count": 3,
   "id": "38738061",
   "metadata": {},
   "outputs": [
    {
     "data": {
      "application/vnd.jupyter.widget-view+json": {
       "model_id": "ef43baa20c964052b193a41b33c2b261",
       "version_major": 2,
       "version_minor": 0
      },
      "text/plain": [
       "HBox(children=(BoundedIntText(value=5400, description='Span in mm:', max=15000, style=DescriptionStyle(descrip…"
      ]
     },
     "metadata": {},
     "output_type": "display_data"
    },
    {
     "data": {
      "application/vnd.jupyter.widget-view+json": {
       "model_id": "56d8e483a64648d3855ffae0138ba7ad",
       "version_major": 2,
       "version_minor": 0
      },
      "text/plain": [
       "HBox(children=(BoundedIntText(value=250, description='Desired reuse area in m2:', max=5000, style=DescriptionS…"
      ]
     },
     "metadata": {},
     "output_type": "display_data"
    }
   ],
   "source": [
    "spann = widgets.BoundedIntText(value = '5400', min =0, max = 15000, step =1, description = 'Span in mm:', disabled = False,style = stl)\n",
    "widthh = widgets.BoundedIntText(value = '3000', min =0, max = 8000, step =1, description = 'Width in mm:', disabled = False, style = stl)\n",
    "heightt = widgets.BoundedIntText(value = '200', min =50, max = 500, step =1, description = 'Height in mm:', disabled = False, style = stl)\n",
    "areaa = widgets.BoundedIntText(value = '250', min =0, max = 5000, step =1, description = 'Desired reuse area in m2:', disabled = False,  style = stl)\n",
    "cranetypee = widgets.Dropdown(options=['Diesel', 'Hybrid'], value='Diesel', description='Crane type used for hoisiting:', disabled=False,style = stl)\n",
    "\n",
    "aa = widgets.HBox([spann,heightt, widthh])\n",
    "bb = widgets.HBox([areaa, cranetypee])\n",
    "\n",
    "display(aa,bb)"
   ]
  },
  {
   "cell_type": "markdown",
   "id": "e19f22b4",
   "metadata": {},
   "source": [
    "#### Reinforcement"
   ]
  },
  {
   "cell_type": "code",
   "execution_count": 4,
   "id": "a22e3675",
   "metadata": {},
   "outputs": [
    {
     "data": {
      "application/vnd.jupyter.widget-view+json": {
       "model_id": "0ec014e579074a31b1cd0ade23f7aaa3",
       "version_major": 2,
       "version_minor": 0
      },
      "text/plain": [
       "HBox(children=(BoundedIntText(value=12, description='Rebar diameter in mm:', max=50, style=DescriptionStyle(de…"
      ]
     },
     "metadata": {},
     "output_type": "display_data"
    },
    {
     "data": {
      "application/vnd.jupyter.widget-view+json": {
       "model_id": "e0df38c1c76b429e81e0854bde218937",
       "version_major": 2,
       "version_minor": 0
      },
      "text/plain": [
       "HBox(children=(BoundedIntText(value=30, description='Cover in mm:', style=DescriptionStyle(description_width='…"
      ]
     },
     "metadata": {},
     "output_type": "display_data"
    }
   ],
   "source": [
    "rebarr = widgets.BoundedIntText(value = '12', min =0, max = 50, step =1, description = 'Rebar diameter in mm:', disabled = False, style = stl)\n",
    "stirrupp = widgets.BoundedIntText(value = '0', min =0, max = 50, step =1, description = 'Stirrup diameter in mm:', disabled = False, style = stl)\n",
    "hohh = widgets.BoundedIntText(value = '125', min =0, max = 1000, step =1, description = 'h.o.h. in mm:', disabled = False, style = stl)\n",
    "coverr = widgets.BoundedIntText(value = '30', min =0, max = 100, step =1, description = 'Cover in mm:', disabled = False, style = stl)\n",
    "\n",
    "cc = widgets.HBox([rebarr, stirrupp, hohh])\n",
    "dd = widgets.HBox([coverr])\n",
    "display(cc,dd)"
   ]
  },
  {
   "cell_type": "markdown",
   "id": "5f6235e8",
   "metadata": {},
   "source": [
    "#### Material quality and loads "
   ]
  },
  {
   "cell_type": "code",
   "execution_count": 5,
   "id": "22202efc",
   "metadata": {},
   "outputs": [
    {
     "data": {
      "application/vnd.jupyter.widget-view+json": {
       "model_id": "f3463a578bf04bada611c5977b8601f0",
       "version_major": 2,
       "version_minor": 0
      },
      "text/plain": [
       "HBox(children=(Dropdown(description='Concrete quality:', index=4, options=('C12/15', 'C16/20', 'C20/25', 'C25/…"
      ]
     },
     "metadata": {},
     "output_type": "display_data"
    },
    {
     "data": {
      "application/vnd.jupyter.widget-view+json": {
       "model_id": "f596a110f711408c89cef0e23480de2a",
       "version_major": 2,
       "version_minor": 0
      },
      "text/plain": [
       "HBox(children=(BoundedIntText(value=0, description='Deadweight in kN/m2:', max=10, style=DescriptionStyle(desc…"
      ]
     },
     "metadata": {},
     "output_type": "display_data"
    }
   ],
   "source": [
    "concreteq = widgets.Dropdown(options=['C12/15', 'C16/20', 'C20/25','C25/30' , 'C30/37', 'C35/45', 'C40/50', 'C45/55' , 'C50/60'], value='C30/37', description='Concrete quality:', disabled=False,style = stl)\n",
    "steelq = widgets.Dropdown(options=['QR22','QR24','QR32','QR40','QR48','QRn32','QRn40','QRn48','FeB220','FeB400','FeB500'], value='FeB500', description='Reinforcement quality:', disabled=False,style = stl)\n",
    "variablee = widgets.BoundedIntText(value = '2', min =0, max = 10, step =0.1, description = 'Variable load in kN/m2:', disabled = False, style = stl)\n",
    "deadd = widgets.BoundedIntText(value = '0', min =0, max = 10, step =1, description = 'Deadweight in kN/m2:', disabled = False, style = stl)\n",
    "classs = widgets.Dropdown(options=['CC1','CC2','CC3'], value='CC1', description='Consequence Class:', disabled=False,style = stl)\n",
    "\n",
    "gg = widgets.HBox([concreteq, steelq, variablee])\n",
    "hh = widgets.HBox([deadd, classs])\n",
    "display(gg,hh)"
   ]
  },
  {
   "cell_type": "code",
   "execution_count": 6,
   "id": "6ead4661",
   "metadata": {},
   "outputs": [
    {
     "data": {
      "application/vnd.jupyter.widget-view+json": {
       "model_id": "5fd2dcd19bb64ef2bc4beea4f32d6788",
       "version_major": 2,
       "version_minor": 0
      },
      "text/plain": [
       "Button(description='Run again with input', layout=Layout(height='50px', width='99%'), style=ButtonStyle(button…"
      ]
     },
     "metadata": {},
     "output_type": "display_data"
    }
   ],
   "source": [
    "def run_all(ev):\n",
    "    display(Javascript('IPython.notebook.execute_cells_below()'))\n",
    "\n",
    "button = widgets.Button(description=\"Run again with input\", layout = Layout(width='99%', height='50px'))\n",
    "button.style.button_color = 'lightgreen'\n",
    "button.on_click(run_all)\n",
    "display(button)"
   ]
  },
  {
   "cell_type": "code",
   "execution_count": 7,
   "id": "6dc495fe",
   "metadata": {},
   "outputs": [],
   "source": [
    "span = spann.value\n",
    "width = widthh.value\n",
    "height = int(heightt.value)\n",
    "area = int(areaa.value)\n",
    "cranetype = cranetypee.value\n",
    "hoh = hohh.value\n",
    "rebar = rebarr.value\n",
    "stirrup = stirrupp.value\n",
    "cover = coverr.value\n",
    "concrete = concreteq.value\n",
    "steel = steelq.value\n",
    "variable = variablee.value\n",
    "dead = deadd.value\n",
    "Class = classs.value"
   ]
  },
  {
   "cell_type": "code",
   "execution_count": 8,
   "id": "fe8f60da",
   "metadata": {},
   "outputs": [],
   "source": [
    "#### Concrete strength properties \n",
    "concretedata = p1\n",
    "fck = 1\n",
    "fcd = fck/1.5\n",
    "Ecm = 1\n",
    "fctm = 1"
   ]
  },
  {
   "cell_type": "code",
   "execution_count": 9,
   "id": "15283af1",
   "metadata": {},
   "outputs": [],
   "source": [
    "#### Reinforcement steel properties\n",
    "steeldata = 1\n",
    "fyd = 1\n",
    "Es = 200000\n",
    "barcount = 1000/hoh \n",
    "As = barcount/4*np.pi*rebar**2\n",
    "εuk = 25/1000"
   ]
  },
  {
   "cell_type": "code",
   "execution_count": 10,
   "id": "2221ada3",
   "metadata": {
    "scrolled": true
   },
   "outputs": [],
   "source": [
    "#### Cross section properties \n",
    "α = 0.75\n",
    "β = 0.39\n",
    "d = height - cover - stirrup - 0.5*rebar\n",
    "Ac = height*width "
   ]
  },
  {
   "cell_type": "code",
   "execution_count": 11,
   "id": "51db39c6",
   "metadata": {},
   "outputs": [],
   "source": [
    "# Loads \n",
    "selfweight = height/1000*1000/1000*24 #kN/m\n",
    "deadweight = dead*1000/1000 #kN/m\n",
    "variableload = variable*1000/1000 #kN/m\n",
    "CCdata = 1\n",
    "CC = 1"
   ]
  },
  {
   "cell_type": "code",
   "execution_count": 12,
   "id": "2ecf7afa",
   "metadata": {},
   "outputs": [],
   "source": [
    "#### ULS \n",
    "ULSload = (1.35 *(selfweight+deadweight) + 1.5 * variableload) * CC #kN/m\n",
    "Ved = span*ULSload/2/1000 #kN\n",
    "Med = 0.125*ULSload*(span/1000)**2 #kNm"
   ]
  },
  {
   "cell_type": "code",
   "execution_count": 13,
   "id": "092bd5c2",
   "metadata": {},
   "outputs": [],
   "source": [
    "#### SLS\n",
    "SLSload = ((selfweight+deadweight) + variableload) #kN/m\n",
    "VedSLS = span*SLSload/2/1000 #kN\n",
    "MedSLS = 0.125*SLSload*(span/1000)**2 #kNm"
   ]
  },
  {
   "cell_type": "markdown",
   "id": "dcdf47f8",
   "metadata": {},
   "source": [
    "# Structural Feasibility "
   ]
  },
  {
   "cell_type": "markdown",
   "id": "0c8f8ed2",
   "metadata": {},
   "source": [
    "## - ULS "
   ]
  },
  {
   "cell_type": "markdown",
   "id": "b35e60c5",
   "metadata": {},
   "source": [
    "#### Bending moment resistance (Mrd)"
   ]
  },
  {
   "cell_type": "code",
   "execution_count": 14,
   "id": "f0209768",
   "metadata": {},
   "outputs": [
    {
     "name": "stdout",
     "output_type": "stream",
     "text": [
      "The bending moment resistance of the cross section (Mrd) is: 60.51940174708946 kNm\n",
      "A simple check of the bending moment resistance in the cross section results in a capacity of 58.09222019991925 kNm\n",
      "The unity check on bending moment gives an UC of: 0.5138705787271872\n",
      "\u001b[32mThe cross section is safe ✓\n"
     ]
    }
   ],
   "source": [
    "Ns = As*fyd\n",
    "xu = Ns/(α*fcd*1000)\n",
    "z = d - β*xu\n",
    "Mrd = As*fyd*z/1000000 #kNm\n",
    "print('The bending moment resistance of the cross section (Mrd) is:', Mrd, 'kNm')\n",
    "print('A simple check of the bending moment resistance in the cross section results in a capacity of', \n",
    "      As*fyd*0.9*d/1000000, 'kNm')\n",
    "UCMed = Med/Mrd\n",
    "print('The unity check on bending moment gives an UC of:', UCMed)\n",
    "if UCMed < 1:\n",
    "    print(Fore.GREEN + 'The cross section is safe ✓')\n",
    "else: \n",
    "    print(Fore.RED + 'The cross section is unsafe X')"
   ]
  },
  {
   "cell_type": "markdown",
   "id": "bf2d02d4",
   "metadata": {},
   "source": [
    "#### Shear resistance (Vrd)"
   ]
  },
  {
   "cell_type": "code",
   "execution_count": 15,
   "id": "a04ed7b8",
   "metadata": {},
   "outputs": [
    {
     "name": "stdout",
     "output_type": "stream",
     "text": [
      "The shear resistanve Vrd =  88.9236976289223 kN.\n",
      "The unity check on shear capacity gives an UC of: 0.2590580533001525\n",
      "\u001b[32mThe cross section is safe ✓\n"
     ]
    }
   ],
   "source": [
    "if d < 200:\n",
    "    k = 2\n",
    "if d >= 200:\n",
    "    k = 1 + (200/d)**0.5\n",
    "vrdc= 0.035 * k **(3/2)*fck**0.5\n",
    "Vrd = vrdc*1000*d/1000\n",
    "print('The shear resistanve Vrd = ', Vrd, 'kN.')\n",
    "UCVed = Ved/Vrd\n",
    "print('The unity check on shear capacity gives an UC of:', UCVed)\n",
    "if UCVed < 1:\n",
    "    print(Fore.GREEN + 'The cross section is safe ✓')\n",
    "else: \n",
    "    print(Fore.RED + 'The cross section is unsafe X')"
   ]
  },
  {
   "cell_type": "markdown",
   "id": "184812fa",
   "metadata": {},
   "source": [
    "## - SLS\n",
    "> In the SLS the deflection of the cross section is checked. This check is done using an EI-value derived from the M-k diagram. Besides the deflection the maximum crack width is calculated and compared to the limits given in the Eurocode. "
   ]
  },
  {
   "cell_type": "code",
   "execution_count": 16,
   "id": "d70371c3",
   "metadata": {},
   "outputs": [],
   "source": [
    "#### Cracking moment (Mr) \n",
    "#Based on the 'Constructieleer Gewapend Beton (CB2) booklet'\n",
    "Ec = fcd/(1.75/1000)\n",
    "n = Es/Ec\n",
    "𝛼e = Es/Ec\n",
    "xc = height/2\n",
    "Acxc = Ac*xc\n",
    "Asxs = As*d*𝛼e\n",
    "Atot = (As*𝛼e+Ac)/1000\n",
    "Axtot = (Asxs +Acxc)/1000000\n",
    "xo = Axtot/Atot\n",
    "Io = 1/12*1000/1000*(height/1000)**3+1000/1000*height/1000*(xo-height/2/1000)**2+𝛼e/1000*(d/1000-xo)**2\n",
    "EIo = Ec*Io*1000\n",
    "Mr = fctm*1000*Io/(height/1000-xo)\n",
    "κr = Mr/EIo"
   ]
  },
  {
   "cell_type": "code",
   "execution_count": 17,
   "id": "b40bd704",
   "metadata": {},
   "outputs": [],
   "source": [
    "#### Yielding moment (My)\n",
    "a = 1000*0.5\n",
    "b = 𝛼e*As\n",
    "c = -𝛼e*d*As\n",
    "xy = (-b+(b**2-4*a*c)**0.5)/(2*a)\n",
    "#Check is also performed \n",
    "εsy = fyd/Es\n",
    "εcy = xy/(d-xy)*εsy\n",
    "if εcy >= 0.00175:\n",
    "    print('WATCH OUT, PROBLEMS')\n",
    "κy = (εcy + εsy)/d*1000\n",
    "My = As*fyd*(d-xy/3)/1000000\n",
    "EIy = My/κy/1000"
   ]
  },
  {
   "cell_type": "code",
   "execution_count": 18,
   "id": "e4ae72e4",
   "metadata": {},
   "outputs": [],
   "source": [
    "#### Plastic concrete moment (Mcpl)\n",
    "εc3 = 1.75/1000\n",
    "xcpl = As*fyd/(0.5*1000*fcd)\n",
    "εscpl = (d-xcpl)/xcpl*εc3\n",
    "# According to NEN-EN 1992-1-1 art. 3.2.7: εs < εud=0.9*εuk. So check:\n",
    "if εscpl >= 0.9* εuk:\n",
    "    print('WATCH OUT, PROBLEMS')\n",
    "κcpl = (εc3+εscpl)/d*1000\n",
    "Mcpl = As*fyd*(d-xcpl/3)/1000000\n",
    "EIcpl = Mcpl/ κcpl"
   ]
  },
  {
   "cell_type": "code",
   "execution_count": 19,
   "id": "9c22089b",
   "metadata": {},
   "outputs": [],
   "source": [
    "#### Bending moment resistance (Mrd)\n",
    "εcu3 = 3.5/1000\n",
    "xu = As*fyd/(0.75*1000*fcd)\n",
    "εsu = (d-xu)/xu*εcu3\n",
    "#Needs to check if the reinforcement doesn't rupture:\n",
    "if εsu >= 0.9* εuk:\n",
    "    print('WATCH OUT, PROBLEMS')\n",
    "κu=(εcu3+εsu)/d*1000\n",
    "Mrd = As*fyd*(d- β*xu)/1000000\n",
    "EIrd = Mrd/κu"
   ]
  },
  {
   "cell_type": "code",
   "execution_count": 20,
   "id": "91a7754f",
   "metadata": {},
   "outputs": [
    {
     "data": {
      "image/png": "[encoded data removed]",
      "text/plain": [
       "<Figure size 432x288 with 1 Axes>"
      ]
     },
     "metadata": {
      "needs_background": "light"
     },
     "output_type": "display_data"
    }
   ],
   "source": [
    "moments = [0,Mr,My,Mcpl,Mrd]\n",
    "curvatures = [0,κr, κy, κcpl, κu]\n",
    "plt.plot(curvatures,moments, label = 'M-k diagram')\n",
    "plt.plot([κr, κy, κcpl, κu], [Mr,My,Mcpl,Mrd], 'bo')\n",
    "\n",
    "MedSLSy = [MedSLS,MedSLS,MedSLS,MedSLS,MedSLS]\n",
    "plt.plot(curvatures, MedSLSy, label = 'SLS Bending moment')\n",
    "\n",
    "plt.title ('M-k diagram')\n",
    "plt.xlabel ('kappa [m-1]')\n",
    "plt.ylabel ('Moment [kNm]');\n",
    "\n",
    "if MedSLS < Mr:\n",
    "    x = MedSLS/(Mr/κr)\n",
    "if Mr < MedSLS <My:\n",
    "    x = (κy-κr)/(My-Mr)*(MedSLS-Mr+κr*(My-Mr)/(κy - κr))\n",
    "if My < MedSLS < Mcpl:\n",
    "    x = (κcpl-κy)/(Mcpl-My)*(MedSLS-My+κy*(Mcpl-My)/(κcpl - κy))\n",
    "if Mcpl < MedSLS < Mrd:\n",
    "    x = (κu-κcpl)/(Mrd-Mcpl)*(MedSLS-Mcpl+κcpl*(Mrd-Mcpl)/(κu - κcpl))\n",
    "\n",
    "plt.plot(x,MedSLS, 'ro')\n",
    "plt.legend(loc = 'best')\n",
    "\n",
    "EI = MedSLS/x"
   ]
  },
  {
   "cell_type": "code",
   "execution_count": 21,
   "id": "d8f4da5c",
   "metadata": {},
   "outputs": [
    {
     "name": "stdout",
     "output_type": "stream",
     "text": [
      "Bending stiffness EI, at SLS load case, equals 5958.721896403963 kNm2.\n"
     ]
    }
   ],
   "source": [
    "print('Bending stiffness EI, at SLS load case, equals', EI , 'kNm2.')"
   ]
  },
  {
   "cell_type": "markdown",
   "id": "38633ed3",
   "metadata": {},
   "source": [
    "#### Deflection "
   ]
  },
  {
   "cell_type": "code",
   "execution_count": 22,
   "id": "305627c7",
   "metadata": {},
   "outputs": [
    {
     "name": "stdout",
     "output_type": "stream",
     "text": [
      "The deflection in the SLS stage is 12.634836179455762 mm.\n",
      "The unity check on deflection gives an UC of: 0.5849461194192482\n",
      "\u001b[32mThe cross section is safe ✓\n"
     ]
    }
   ],
   "source": [
    "deflection = 5/384*SLSload*(span/1000)**4/EI*1000\n",
    "deflectionmax = span/250\n",
    "print('The deflection in the SLS stage is', deflection, 'mm.')\n",
    "UCdef = deflection/deflectionmax\n",
    "print('The unity check on deflection gives an UC of:', UCdef)\n",
    "if UCdef < 1:\n",
    "    print(Fore.GREEN + 'The cross section is safe ✓')\n",
    "else: \n",
    "    print(Fore.RED + 'The cross section is unsafe X')"
   ]
  },
  {
   "cell_type": "markdown",
   "id": "0dc49784",
   "metadata": {},
   "source": [
    "#### Crack width "
   ]
  },
  {
   "cell_type": "code",
   "execution_count": 23,
   "id": "5bbec445",
   "metadata": {},
   "outputs": [
    {
     "name": "stdout",
     "output_type": "stream",
     "text": [
      "The maximum crack width in the SLS stage is 0.11987694101492817 mm.\n",
      "The unity check on deflection gives an UC of: 0.2996923525373204\n",
      "\u001b[32mThe cross section is safe ✓\n"
     ]
    }
   ],
   "source": [
    "𝛼e = Es/Ecm\n",
    "rho = As/(1000*d)\n",
    "x = (-𝛼e*rho+((𝛼e*rho)**2+2*𝛼e*rho)**0.5)*d\n",
    "z = d-x/3\n",
    "σsr = Mr*1000000/(As*z)\n",
    "hceff = min(2.5*(height-d), (height-x)/3)\n",
    "rhoeff = As/(1000*hceff)\n",
    "taubm = 2*fctm\n",
    "σs = MedSLS*1000000/(As*z)\n",
    "𝛼 = 0.3\n",
    "wmax = 1/2 * fctm/taubm * rebar/ rhoeff * 1 / Es *(σs - 𝛼*σsr)\n",
    "\n",
    "print('The maximum crack width in the SLS stage is', wmax, 'mm.') \n",
    "UCw = wmax/0.4\n",
    "\n",
    "print('The unity check on deflection gives an UC of:', UCw)\n",
    "if UCw < 1:\n",
    "    print(Fore.GREEN + 'The cross section is safe ✓')\n",
    "else: \n",
    "    print(Fore.RED + 'The cross section is unsafe X')"
   ]
  },
  {
   "cell_type": "markdown",
   "id": "25f39bef",
   "metadata": {},
   "source": [
    "# Environmetal impact\n",
    "> In this part the environmental impact for reused and new elements are calculated and compared. "
   ]
  },
  {
   "cell_type": "code",
   "execution_count": 24,
   "id": "f039143c",
   "metadata": {},
   "outputs": [],
   "source": [
    "sawspeed = 5.4 \n",
    "hoistspeed = 1/0.24 #elements per hour "
   ]
  },
  {
   "cell_type": "markdown",
   "id": "f2ed836f",
   "metadata": {},
   "source": [
    "#### Environmental impact sawing"
   ]
  },
  {
   "cell_type": "code",
   "execution_count": 25,
   "id": "24f3672e",
   "metadata": {},
   "outputs": [
    {
     "name": "stdout",
     "output_type": "stream",
     "text": [
      "The environmental impact due to sawing is: € 187.23624999999998\n"
     ]
    }
   ],
   "source": [
    "amount = round(area/(width/1000*span/1000))   \n",
    "hours = ((3*span/1000+4*width/1000)/2) *amount /sawspeed\n",
    "\n",
    "MKIsawing = hours*4.7805 #Value is taken from the NMD\n",
    "print('The environmental impact due to sawing is: €', MKIsawing, )"
   ]
  },
  {
   "cell_type": "markdown",
   "id": "cfd68c2c",
   "metadata": {},
   "source": [
    "#### Envrionmental impact hoisting\n"
   ]
  },
  {
   "cell_type": "code",
   "execution_count": 26,
   "id": "96e259e5",
   "metadata": {},
   "outputs": [
    {
     "name": "stdout",
     "output_type": "stream",
     "text": [
      "The environmental impact due to hoisting is: € 57.366\n"
     ]
    }
   ],
   "source": [
    "hours2 = amount*0.24 \n",
    "\n",
    "if cranetype == 'Diesel':\n",
    "    hoist = 15.935    #Value is taken from the NMD\n",
    "if cranetype == 'Hybrid':\n",
    "    hoist = 11.1545   #Value is taken from the NMD\n",
    "\n",
    "MKIhoisting = hours2*hoist\n",
    "print('The environmental impact due to hoisting is: €', MKIhoisting, )"
   ]
  },
  {
   "cell_type": "markdown",
   "id": "82b6d2df",
   "metadata": {},
   "source": [
    "#### Environmental impact new floor "
   ]
  },
  {
   "cell_type": "code",
   "execution_count": 27,
   "id": "012042ce",
   "metadata": {},
   "outputs": [
    {
     "name": "stdout",
     "output_type": "stream",
     "text": [
      "The environmental impact of a new floor is: € 1866.7907500000001\n"
     ]
    }
   ],
   "source": [
    "MKItopping = area*4.549083 #basis is NMD\n",
    "MKIprefab = area*2.91808 #basis is NMD\n",
    "MKInew = MKItopping+MKIprefab\n",
    "print('The environmental impact of a new floor is: €', MKInew )"
   ]
  },
  {
   "cell_type": "markdown",
   "id": "9298cebe",
   "metadata": {},
   "source": [
    "#   Costs \n",
    "\n",
    "> In this part the costs of a new and reused floor are calculated."
   ]
  },
  {
   "cell_type": "markdown",
   "id": "c39939a6",
   "metadata": {},
   "source": [
    "#### Costs new floor "
   ]
  },
  {
   "cell_type": "code",
   "execution_count": 28,
   "id": "fac3a5cc",
   "metadata": {},
   "outputs": [
    {
     "name": "stdout",
     "output_type": "stream",
     "text": [
      "The costs of a new plank floor are: € 27750\n"
     ]
    }
   ],
   "source": [
    "costnew = area*111\n",
    "print('The costs of a new plank floor are: €', costnew)"
   ]
  },
  {
   "cell_type": "markdown",
   "id": "1ba321fd",
   "metadata": {},
   "source": [
    "#### Cost traditional demolition "
   ]
  },
  {
   "cell_type": "code",
   "execution_count": 29,
   "id": "fcf9243c",
   "metadata": {},
   "outputs": [
    {
     "name": "stdout",
     "output_type": "stream",
     "text": [
      "The costs of ordinary demolition are: € 10945.0\n"
     ]
    }
   ],
   "source": [
    "costtrad = area*43.78\n",
    "print('The costs of ordinary demolition are: €', costtrad)"
   ]
  },
  {
   "cell_type": "markdown",
   "id": "d2150f18",
   "metadata": {},
   "source": [
    "#### Sawing costs "
   ]
  },
  {
   "cell_type": "code",
   "execution_count": 30,
   "id": "b20855f5",
   "metadata": {},
   "outputs": [
    {
     "name": "stdout",
     "output_type": "stream",
     "text": [
      "The costs of sawing are: € 13853.25\n"
     ]
    }
   ],
   "source": [
    "costsaw = ((3*span/1000+4*width/1000)/2) *amount*65.5\n",
    "print('The costs of sawing are: €', costsaw)"
   ]
  },
  {
   "cell_type": "markdown",
   "id": "4ece5804",
   "metadata": {},
   "source": [
    "#### Hoisting costs "
   ]
  },
  {
   "cell_type": "code",
   "execution_count": 31,
   "id": "c49550a6",
   "metadata": {},
   "outputs": [
    {
     "name": "stdout",
     "output_type": "stream",
     "text": [
      "The costs of hoisting are: € 917.1\n"
     ]
    }
   ],
   "source": [
    "hoistcost = amount*61.14\n",
    "print('The costs of hoisting are: €', hoistcost)"
   ]
  },
  {
   "cell_type": "markdown",
   "id": "ed6daac1",
   "metadata": {},
   "source": [
    "#### Costs of stamping/supporting "
   ]
  },
  {
   "cell_type": "code",
   "execution_count": 32,
   "id": "82684a03",
   "metadata": {},
   "outputs": [
    {
     "name": "stdout",
     "output_type": "stream",
     "text": [
      "The costs of stamping are: € 2055.0\n"
     ]
    }
   ],
   "source": [
    "coststamp = area*8.22\n",
    "print('The costs of stamping are: €', coststamp)"
   ]
  },
  {
   "cell_type": "markdown",
   "id": "deb9d61b",
   "metadata": {},
   "source": [
    "#### Testing costs "
   ]
  },
  {
   "cell_type": "code",
   "execution_count": 33,
   "id": "45f4bdf3",
   "metadata": {},
   "outputs": [
    {
     "name": "stdout",
     "output_type": "stream",
     "text": [
      "The costs related to testing are: € 4717.5\n"
     ]
    }
   ],
   "source": [
    "#mapping the reinforcement\n",
    "map = area*0.74\n",
    "\n",
    "#drilling cores\n",
    "cores = area/100*63\n",
    "\n",
    "#testing\n",
    "testing = area/100*70\n",
    "\n",
    "#chopping \n",
    "chop = 10*175 \n",
    "\n",
    "#steel\n",
    "steel = 10*245 \n",
    "\n",
    "test = map+cores+testing+chop+steel\n",
    "print('The costs related to testing are: €', test)\n",
    "costcirc = (costsaw+coststamp+hoistcost+test)"
   ]
  },
  {
   "cell_type": "markdown",
   "id": "21ab2d0b",
   "metadata": {},
   "source": [
    "# Conclusion \n",
    "> This part summarises the calculations and gives the reuse potential of the floor elements."
   ]
  },
  {
   "cell_type": "markdown",
   "id": "5dd654cf",
   "metadata": {},
   "source": [
    "#### Structural"
   ]
  },
  {
   "cell_type": "code",
   "execution_count": 34,
   "id": "366a9c59",
   "metadata": {},
   "outputs": [
    {
     "data": {
      "image/png": "[encoded data removed]",
      "text/plain": [
       "<Figure size 576x432 with 1 Axes>"
      ]
     },
     "metadata": {
      "needs_background": "light"
     },
     "output_type": "display_data"
    },
    {
     "name": "stdout",
     "output_type": "stream",
     "text": [
      "\u001b[32mThe cross section is safe ✓\n"
     ]
    }
   ],
   "source": [
    "fig = plt.figure(figsize=[8,6])\n",
    "ax = fig.add_axes([0,0,1,1])\n",
    "labels = ['UCMed', 'UCVed', 'UCdeflection', 'UCcrackwidth']\n",
    "UCs = [UCMed, UCVed, UCdef, UCw]\n",
    "plt.title('UC values')\n",
    "\n",
    "colors = [0,0,0,0]\n",
    "for i in range(len(UCs)):\n",
    "    if UCs[i] < 1:\n",
    "        colors[i] = 'green'\n",
    "    else:\n",
    "        colors[i]= 'red'\n",
    "    \n",
    "ax.bar(labels, UCs, color = colors)\n",
    "\n",
    "plt.axhline(1, color = 'red', linestyle = 'dashed', label = 'Maxumum UC = 1')\n",
    "plt.legend(loc = 'best')\n",
    "plt.show()\n",
    "\n",
    "if UCMed > 1 or UCVed > 1 or UCdef >1 or UCw >1:\n",
    "    print(Fore.RED + 'The cross section is unsafe X')\n",
    "else: \n",
    "    print(Fore.GREEN + 'The cross section is safe ✓')"
   ]
  },
  {
   "cell_type": "markdown",
   "id": "b1f2c501",
   "metadata": {},
   "source": [
    "#### Environmental "
   ]
  },
  {
   "cell_type": "code",
   "execution_count": 35,
   "id": "d3ae87e9",
   "metadata": {},
   "outputs": [
    {
     "data": {
      "image/png": "[encoded data removed]",
      "text/plain": [
       "<Figure size 576x432 with 1 Axes>"
      ]
     },
     "metadata": {
      "needs_background": "light"
     },
     "output_type": "display_data"
    }
   ],
   "source": [
    "plt.figure(figsize=[8,6])\n",
    "plt.bar([0],[MKIsawing], bottom = [0], align = 'center', color = ['green'], label = 'ECI related to sawing')\n",
    "plt.bar([0],[ MKIhoisting], bottom = [MKIsawing], align = 'center', color = ['blue'], label = 'ECI related to hoisting')\n",
    "plt.bar([1],[ MKInew], bottom = [0], align = 'center', color = ['purple'], label = 'ECI of new floor')\n",
    "\n",
    "plt.xticks ([0,1] , ['ECI of reused floor', 'ECI of new floor']);\n",
    "plt.ylabel ('ECI in €')\n",
    "plt.title ('Envrionmental impact of reused and new floor')\n",
    "\n",
    "plt.legend(loc='best');"
   ]
  },
  {
   "cell_type": "code",
   "execution_count": 36,
   "id": "775a4068",
   "metadata": {},
   "outputs": [
    {
     "name": "stdout",
     "output_type": "stream",
     "text": [
      "The potential savings on environmental impact are: € 1622.1885000000002\n"
     ]
    }
   ],
   "source": [
    "print('The potential savings on environmental impact are: €', MKInew-MKIsawing-MKIhoisting)"
   ]
  },
  {
   "cell_type": "markdown",
   "id": "8f861f2e",
   "metadata": {},
   "source": [
    "#### Financial\n"
   ]
  },
  {
   "cell_type": "code",
   "execution_count": 37,
   "id": "79e468f9",
   "metadata": {},
   "outputs": [
    {
     "data": {
      "image/png": "[encoded data removed]",
      "text/plain": [
       "<Figure size 1080x432 with 2 Axes>"
      ]
     },
     "metadata": {
      "needs_background": "light"
     },
     "output_type": "display_data"
    }
   ],
   "source": [
    "plt.figure(figsize=[15,6])\n",
    "plt.subplot(1,2,1)\n",
    "plt.bar([0],[costsaw], bottom = [0], align = 'center', color = ['yellow'], label = 'Sawing costs')\n",
    "plt.bar([0],[hoistcost], bottom = [costsaw], align = 'center', color = ['blue'], label = 'Hoisting costs')\n",
    "plt.bar([0],[test], bottom = [costsaw+hoistcost], align = 'center', color = ['green'], label = 'Testing costs')\n",
    "plt.bar([0],[coststamp], bottom = [costsaw+hoistcost+test], align = 'center', color = ['orange'], label = 'Stamping costs')\n",
    "plt.bar([1],[costtrad], bottom = [0], align = 'center', color = ['brown'], label = 'Costs of traditional demolition')\n",
    "plt.bar([2],[costnew], bottom = [0], align = 'center', color = ['purple'], label = 'Costs of new floor')\n",
    "\n",
    "plt.xticks ([0,1,2] , ['Costs of reused floor', 'Traditional demolition', 'Cost of new floor']);\n",
    "plt.ylabel ('Costs in €')\n",
    "plt.title ('Costs of reused and new floor')\n",
    "plt.legend(loc='best');\n",
    "\n",
    "plt.subplot(1,2,2)\n",
    "plt.bar([0],[costsaw+hoistcost+test+coststamp-costtrad], bottom = [0], align = 'center', color = ['grey'], label = 'Ruesed costs - traditional demolition')\n",
    "plt.bar([1],[costnew], bottom = [0], align = 'center', color = ['purple'], label = 'Costs of new floor')\n",
    "\n",
    "plt.xticks ([0,1,] , ['Reused - traditional', 'Cost of new floor']);\n",
    "plt.ylabel ('Costs in €')\n",
    "plt.title ('Costs of reused and new floor')\n",
    "plt.legend(loc='best');"
   ]
  },
  {
   "cell_type": "code",
   "execution_count": 38,
   "id": "03b8d7a1",
   "metadata": {},
   "outputs": [
    {
     "name": "stdout",
     "output_type": "stream",
     "text": [
      "The needed investment costs when comparing a reused floor with a new one are: € -8262.150000000001\n",
      "The needed investment costs when comparing a reused floor and the traditional demolition costs (discount) with a new floor are: € -17152.15\n"
     ]
    }
   ],
   "source": [
    "print('The needed investment costs when comparing a reused floor with a new one are: €', costsaw+hoistcost+test-costnew)\n",
    "print('The needed investment costs when comparing a reused floor and the traditional demolition costs (discount) with a new floor are: €', costsaw+hoistcost+test+coststamp-costnew-costtrad)"
   ]
  },
  {
   "cell_type": "markdown",
   "id": "2747dd30",
   "metadata": {},
   "source": [
    "#### Potential benefit"
   ]
  },
  {
   "cell_type": "code",
   "execution_count": 39,
   "id": "aa42bd2d",
   "metadata": {},
   "outputs": [
    {
     "name": "stdout",
     "output_type": "stream",
     "text": [
      "The potential benefit on environmental impact and costs is: € 18774.3385\n"
     ]
    }
   ],
   "source": [
    "print('The potential benefit on environmental impact and costs is: €',MKInew-MKIsawing-MKIhoisting-(costsaw+hoistcost+test+coststamp-costnew-costtrad) )"
   ]
  },
  {
   "cell_type": "code",
   "execution_count": 40,
   "id": "39c638fd",
   "metadata": {},
   "outputs": [
    {
     "name": "stdout",
     "output_type": "stream",
     "text": [
      "\n",
      "Note: you may need to restart the kernel to use updated packages.\n"
     ]
    }
   ],
   "source": [
    "conda env export > environment.yaml"
   ]
  },
  {
   "cell_type": "code",
   "execution_count": null,
   "id": "fe202fce",
   "metadata": {},
   "outputs": [],
   "source": []
  }
 ],
 "metadata": {
  "hide_input": false,
  "kernelspec": {
   "display_name": "Python 3 (ipykernel)",
   "language": "python",
   "name": "python3"
  },
  "language_info": {
   "codemirror_mode": {
    "name": "ipython",
    "version": 3
   },
   "file_extension": ".py",
   "mimetype": "text/x-python",
   "name": "python",
   "nbconvert_exporter": "python",
   "pygments_lexer": "ipython3",
   "version": "3.8.8"
  }
 },
 "nbformat": 4,
 "nbformat_minor": 5
}
