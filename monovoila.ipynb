{
 "cells": [
  {
   "cell_type": "markdown",
   "id": "44ee61d0",
   "metadata": {},
   "source": [
    "<figure>\n",
    "  <IMG SRC=\"https://raw.githubusercontent.com/mbakker7/exploratory_computing_with_python/master/tudelft_logo.png\" WIDTH=250 ALIGN=\"right\">\n",
    "  <IMG SRC = \"https://www.corrosionalliance.com/wp-content/uploads/2021/06/nebest.png\" WIDTH=250 ALIGN=\"left\">\n",
    "<figure>\n",
    "     "
   ]
  },
  {
   "cell_type": "markdown",
   "id": "991f5433",
   "metadata": {},
   "source": [
    "# Reuse of monolithic floors \n",
    "*Developed by Thijs Noordhoek*\n",
    "> The reuse potentials of monolithic floors concerning technical, environmental, and econimical aspects."
   ]
  },
  {
   "cell_type": "code",
   "execution_count": 1,
   "id": "51fa5934",
   "metadata": {},
   "outputs": [],
   "source": [
    "import numpy as np\n",
    "import matplotlib.pyplot as plt\n",
    "%matplotlib inline\n",
    "import ipywidgets as widgets\n",
    "from ipywidgets import *\n",
    "from ipywidgets import HBox\n",
    "import pandas as pd \n",
    "from pandas import read_csv\n",
    "from IPython.display import  display, clear_output\n",
    "from ipywidgets.widgets.interaction import show_inline_matplotlib_plots"
   ]
  },
  {
   "cell_type": "markdown",
   "id": "6b9594e3",
   "metadata": {},
   "source": [
    "# Input parameters "
   ]
  },
  {
   "cell_type": "code",
   "execution_count": 2,
   "id": "24bd183b",
   "metadata": {},
   "outputs": [],
   "source": [
    "stl = {'description_width': '210px'}"
   ]
  },
  {
   "cell_type": "markdown",
   "id": "003c0264",
   "metadata": {},
   "source": [
    "#### Dimensions and equipment  "
   ]
  },
  {
   "cell_type": "code",
   "execution_count": 3,
   "id": "f6905f8f",
   "metadata": {},
   "outputs": [
    {
     "data": {
      "application/vnd.jupyter.widget-view+json": {
       "model_id": "ee96abb401284bdc9422d8a3803fa23b",
       "version_major": 2,
       "version_minor": 0
      },
      "text/plain": [
       "HBox(children=(BoundedIntText(value=5400, description='Span in mm:', max=15000, style=DescriptionStyle(descrip…"
      ]
     },
     "metadata": {},
     "output_type": "display_data"
    },
    {
     "data": {
      "application/vnd.jupyter.widget-view+json": {
       "model_id": "ab731d2f75574556ac6fe4be134f8325",
       "version_major": 2,
       "version_minor": 0
      },
      "text/plain": [
       "HBox(children=(BoundedIntText(value=250, description='Desired reuse area in m2:', max=50000, style=Description…"
      ]
     },
     "metadata": {},
     "output_type": "display_data"
    }
   ],
   "source": [
    "spann = widgets.BoundedIntText(value = '5400', min =0, max = 15000, step =1, description = 'Span in mm:', disabled = False,style = stl)\n",
    "widthh = widgets.BoundedIntText(value = '3000', min =0, max = 8000, step =1, description = 'Width in mm:', disabled = False, style = stl)\n",
    "heightt = widgets.BoundedIntText(value = '200', min =50, max = 500, step =1, description = 'Height in mm:', disabled = False, style = stl)\n",
    "areaa = widgets.BoundedIntText(value = '250', min =0, max = 50000, step =1, description = 'Desired reuse area in m2:', disabled = False,  style = stl)\n",
    "cranetypee = widgets.Dropdown(options=['Diesel', 'Hybrid'], value='Diesel', description='Crane type used for hoisiting:', disabled=False,style = stl)\n",
    "\n",
    "aa = widgets.HBox([spann,heightt, widthh])\n",
    "bb = widgets.HBox([areaa, cranetypee])\n",
    "\n",
    "display(aa,bb)"
   ]
  },
  {
   "cell_type": "markdown",
   "id": "71f890e2",
   "metadata": {},
   "source": [
    "#### Reinforcement"
   ]
  },
  {
   "cell_type": "code",
   "execution_count": 4,
   "id": "c0f7be07",
   "metadata": {},
   "outputs": [
    {
     "data": {
      "application/vnd.jupyter.widget-view+json": {
       "model_id": "0c148b2b8e234a06925ba8ffdeab8b40",
       "version_major": 2,
       "version_minor": 0
      },
      "text/plain": [
       "HBox(children=(BoundedIntText(value=12, description='Rebar diameter in mm:', max=50, style=DescriptionStyle(de…"
      ]
     },
     "metadata": {},
     "output_type": "display_data"
    },
    {
     "data": {
      "application/vnd.jupyter.widget-view+json": {
       "model_id": "e58ecc51de404e91a1b8374fd1fea30c",
       "version_major": 2,
       "version_minor": 0
      },
      "text/plain": [
       "HBox(children=(BoundedIntText(value=30, description='Cover in mm:', style=DescriptionStyle(description_width='…"
      ]
     },
     "metadata": {},
     "output_type": "display_data"
    }
   ],
   "source": [
    "rebarr = widgets.BoundedIntText(value = '12', min =0, max = 50, step =1, description = 'Rebar diameter in mm:', disabled = False, style = stl)\n",
    "stirrupp = widgets.BoundedIntText(value = '0', min =0, max = 50, step =1, description = 'Stirrup diameter in mm:', disabled = False, style = stl)\n",
    "hohh = widgets.BoundedIntText(value = '125', min =0, max = 1000, step =1, description = 'h.o.h. in mm:', disabled = False, style = stl)\n",
    "coverr = widgets.BoundedIntText(value = '30', min =0, max = 100, step =1, description = 'Cover in mm:', disabled = False, style = stl)\n",
    "\n",
    "cc = widgets.HBox([rebarr, stirrupp, hohh])\n",
    "dd = widgets.HBox([coverr])\n",
    "display(cc,dd)"
   ]
  },
  {
   "cell_type": "markdown",
   "id": "b8a24d05",
   "metadata": {},
   "source": [
    "#### Material quality and loads "
   ]
  },
  {
   "cell_type": "code",
   "execution_count": 5,
   "id": "bbddcd32",
   "metadata": {},
   "outputs": [
    {
     "data": {
      "application/vnd.jupyter.widget-view+json": {
       "model_id": "641aeda8231c4480bbd321a3e0b2a156",
       "version_major": 2,
       "version_minor": 0
      },
      "text/plain": [
       "HBox(children=(Dropdown(description='Concrete quality:', index=4, options=('C12/15', 'C16/20', 'C20/25', 'C25/…"
      ]
     },
     "metadata": {},
     "output_type": "display_data"
    },
    {
     "data": {
      "application/vnd.jupyter.widget-view+json": {
       "model_id": "fd899c9909b04e98ac1678ed5e61cfbc",
       "version_major": 2,
       "version_minor": 0
      },
      "text/plain": [
       "HBox(children=(BoundedIntText(value=0, description='Deadweight in kN/m2:', max=10, step=0, style=DescriptionSt…"
      ]
     },
     "metadata": {},
     "output_type": "display_data"
    }
   ],
   "source": [
    "concreteq = widgets.Dropdown(options=['C12/15', 'C16/20', 'C20/25','C25/30' , 'C30/37', 'C35/45', 'C40/50', 'C45/55' , 'C50/60'], value='C30/37', description='Concrete quality:', disabled=False,style = stl)\n",
    "steelq = widgets.Dropdown(options=['QR22','QR24','QR32','QR40','QR48','QRn32','QRn40','QRn48','FeB220','FeB400','FeB500'], value='FeB500', description='Reinforcement quality:', disabled=False,style = stl)\n",
    "variablee = widgets.BoundedIntText(value = '2', min =0, max = 10, step =0.1, description = 'Variable load in kN/m2:', disabled = False, style = stl)\n",
    "deadd = widgets.BoundedIntText(value = '0', min =0, max = 10, step =0.1, description = 'Deadweight in kN/m2:', disabled = False, style = stl)\n",
    "classs = widgets.Dropdown(options=['CC1','CC2','CC3'], value='CC1', description='Consequence Class:', disabled=False,style = stl)\n",
    "\n",
    "gg = widgets.HBox([concreteq, steelq, variablee])\n",
    "hh = widgets.HBox([deadd, classs])\n",
    "display(gg,hh)"
   ]
  },
  {
   "cell_type": "code",
   "execution_count": 6,
   "id": "a8f8e5bd",
   "metadata": {},
   "outputs": [
    {
     "data": {
      "application/vnd.jupyter.widget-view+json": {
       "model_id": "ec7f1dbdde1646c6bc14469fcb1ce2b0",
       "version_major": 2,
       "version_minor": 0
      },
      "text/plain": [
       "VBox(children=(Button(description='Get results!', style=ButtonStyle(), tooltip='Send'), Output()))"
      ]
     },
     "metadata": {},
     "output_type": "display_data"
    }
   ],
   "source": [
    "button_send = widgets.Button(\n",
    "                description='Get results!',\n",
    "                tooltip='Send',\n",
    "                style={'description_width': 'initial'}\n",
    "            )\n",
    "\n",
    "output = widgets.Output()\n",
    "\n",
    "def on_button_clicked(event):\n",
    "    with output:\n",
    "        clear_output()\n",
    "        os.system('clear')\n",
    "        span = spann.value\n",
    "        width = widthh.value\n",
    "        height = int(heightt.value)\n",
    "        area = int(areaa.value)\n",
    "        cranetype = cranetypee.value\n",
    "        hoh = hohh.value\n",
    "        rebar = rebarr.value\n",
    "        stirrup = stirrupp.value\n",
    "        cover = coverr.value\n",
    "        concrete = concreteq.value\n",
    "        steel = steelq.value\n",
    "        variable = variablee.value\n",
    "        dead = deadd.value\n",
    "        Class = classs.value\n",
    "        \n",
    "        if concreteq.value == 'C12/15':\n",
    "            fck = 12\n",
    "            fcd = fck/1.5\n",
    "            Ecm = 27000\n",
    "            fctm = 1.6\n",
    "        if concrete == 'C16/20':\n",
    "            fck = 16\n",
    "            fcd = fck/1.5\n",
    "            Ecm = 29000\n",
    "            fctm = 1.9\n",
    "        if concrete == 'C20/25':\n",
    "            fck = 20\n",
    "            fcd = fck/1.5\n",
    "            Ecm = 30000\n",
    "            fctm = 2.2\n",
    "        if concrete == 'C25/30':\n",
    "            fck = 25\n",
    "            fcd = fck/1.5\n",
    "            Ecm = 31000\n",
    "            fctm = 2.6\n",
    "        if concrete == 'C30/37':\n",
    "            fck = 30\n",
    "            fcd = fck/1.5\n",
    "            Ecm = 33000\n",
    "            fctm = 2.9\n",
    "        if concrete == 'C35/45':\n",
    "            fck = 35\n",
    "            fcd = fck/1.5\n",
    "            Ecm = 34000\n",
    "            fctm = 3.2\n",
    "        if concrete == 'C40/50':\n",
    "            fck = 40\n",
    "            fcd = fck/1.5\n",
    "            Ecm = 35000\n",
    "            fctm = 3.5\n",
    "        if concrete == 'C45/55':\n",
    "            fck = 45\n",
    "            fcd = fck/1.5\n",
    "            Ecm = 36000\n",
    "            fctm = 3.8\n",
    "        if concrete == 'C50/60':\n",
    "            fck = 50\n",
    "            fcd = fck/1.5\n",
    "            Ecm = 37000\n",
    "            fctm = 4.1\n",
    "\n",
    "        if steel == 'QR22':\n",
    "            fyd = 191\n",
    "        if steel == 'QR24':\n",
    "            fyd = 209\n",
    "        if steel == 'QR32':\n",
    "            fyd = 278\n",
    "        if steel == 'QR40':\n",
    "            fyd = 348\n",
    "        if steel == 'QR48':\n",
    "            fyd = 417\n",
    "        if steel == 'QRn32':\n",
    "            fyd = 278\n",
    "        if steel == 'QRn40':\n",
    "            fyd = 348\n",
    "        if steel == 'QRn48':\n",
    "            fyd = 417\n",
    "        if steel == 'FeB220':\n",
    "            fyd = 191\n",
    "        if steel == 'FeB400':\n",
    "            fyd = 348\n",
    "        if steel == 'FeB500':\n",
    "            fyd = 435\n",
    "\n",
    "        if Class == 'CC1':\n",
    "            CC = 0.9\n",
    "        if Class == 'CC2':\n",
    "            CC = 1\n",
    "        if Class == 'CC3':\n",
    "            CC = 1.1\n",
    "        \n",
    "        \n",
    "        \n",
    "        Es = 200000\n",
    "        barcount = 1000/hoh \n",
    "        As = barcount/4*np.pi*rebar**2\n",
    "        εuk = 25/1000\n",
    "        α = 0.75\n",
    "        β = 0.39\n",
    "        d = height - cover - stirrup - 0.5*rebar\n",
    "        Ac = height*width\n",
    "        selfweight = height/1000*1000/1000*24 #kN/m\n",
    "        deadweight = dead*1000/1000 #kN/m\n",
    "        variableload = variable*1000/1000 #kN/m\n",
    "\n",
    "        ULSload = (1.35 *(selfweight+deadweight) + 1.5 * variableload) * CC #kN/m\n",
    "        Ved = span*ULSload/2/1000 #kN\n",
    "        Med = 0.125*ULSload*(span/1000)**2 #kNm\n",
    "        SLSload = ((selfweight+deadweight) + variableload) #kN/m\n",
    "        VedSLS = span*SLSload/2/1000 #kN\n",
    "        MedSLS = 0.125*SLSload*(span/1000)**2 #kNm\n",
    "        Ns = As*fyd\n",
    "        xu = Ns/(α*fcd*1000)\n",
    "        z = d - β*xu\n",
    "        Mrd = As*fyd*z/1000000 #kNm\n",
    "        UCMed = Med/Mrd\n",
    "        if d < 200:\n",
    "            k = 2\n",
    "        if d >= 200:\n",
    "            k = 1 + (200/d)**0.5\n",
    "        vrdc= 0.035 * k **(3/2)*fck**0.5\n",
    "        Vrd = vrdc*1000*d/1000\n",
    "        UCVed = Ved/Vrd\n",
    "        Ec = fcd/(1.75/1000)\n",
    "        n = Es/Ec\n",
    "        𝛼e = Es/Ec\n",
    "        xc = height/2\n",
    "        Acxc = Ac*xc\n",
    "        Asxs = As*d*𝛼e\n",
    "        Atot = (As*𝛼e+Ac)/1000\n",
    "        Axtot = (Asxs +Acxc)/1000000\n",
    "        xo = Axtot/Atot\n",
    "        Io = 1/12*1000/1000*(height/1000)**3+1000/1000*height/1000*(xo-height/2/1000)**2+𝛼e/1000*(d/1000-xo)**2\n",
    "        EIo = Ec*Io*1000\n",
    "        Mr = fctm*1000*Io/(height/1000-xo)\n",
    "        κr = Mr/EIo\n",
    "        a = 1000*0.5\n",
    "        b = 𝛼e*As\n",
    "        c = -𝛼e*d*As\n",
    "        xy = (-b+(b**2-4*a*c)**0.5)/(2*a)\n",
    "        #Check is also performed \n",
    "        εsy = fyd/Es\n",
    "        εcy = xy/(d-xy)*εsy\n",
    "        if εcy >= 0.00175:\n",
    "            print('WATCH OUT, PROBLEMS')\n",
    "        κy = (εcy + εsy)/d*1000\n",
    "        My = As*fyd*(d-xy/3)/1000000\n",
    "        EIy = My/κy/1000\n",
    "        εc3 = 1.75/1000\n",
    "        xcpl = As*fyd/(0.5*1000*fcd)\n",
    "        εscpl = (d-xcpl)/xcpl*εc3\n",
    "        # According to NEN-EN 1992-1-1 art. 3.2.7: εs < εud=0.9*εuk. So check:\n",
    "        if εscpl >= 0.9* εuk:\n",
    "            print('WATCH OUT, PROBLEMS')\n",
    "        κcpl = (εc3+εscpl)/d*1000\n",
    "        Mcpl = As*fyd*(d-xcpl/3)/1000000\n",
    "        EIcpl = Mcpl/ κcpl\n",
    "        εcu3 = 3.5/1000\n",
    "        xu = As*fyd/(0.75*1000*fcd)\n",
    "        εsu = (d-xu)/xu*εcu3\n",
    "        #Needs to check if the reinforcement doesn't rupture:\n",
    "        if εsu >= 0.9* εuk:\n",
    "            print('WATCH OUT, PROBLEMS')\n",
    "        κu=(εcu3+εsu)/d*1000\n",
    "        Mrd = As*fyd*(d- β*xu)/1000000\n",
    "        EIrd = Mrd/κu\n",
    "        moments = [0,Mr,My,Mcpl,Mrd]\n",
    "        curvatures = [0,κr, κy, κcpl, κu]\n",
    "        plt.plot(curvatures,moments, label = 'M-k diagram')\n",
    "        plt.plot([κr, κy, κcpl, κu], [Mr,My,Mcpl,Mrd], 'bo')\n",
    "        MedSLSy = [MedSLS,MedSLS,MedSLS,MedSLS,MedSLS]\n",
    "        plt.plot(curvatures, MedSLSy, label = 'SLS Bending moment')\n",
    "        plt.title ('M-k diagram')\n",
    "        plt.xlabel ('kappa [m-1]')\n",
    "        plt.ylabel ('Moment [kNm]');\n",
    "        if MedSLS < Mr:\n",
    "            x = MedSLS/(Mr/κr)\n",
    "        if Mr < MedSLS <My:\n",
    "            x = (κy-κr)/(My-Mr)*(MedSLS-Mr+κr*(My-Mr)/(κy - κr))\n",
    "        if My < MedSLS < Mcpl:\n",
    "            x = (κcpl-κy)/(Mcpl-My)*(MedSLS-My+κy*(Mcpl-My)/(κcpl - κy))\n",
    "        if Mcpl < MedSLS < Mrd:\n",
    "            x = (κu-κcpl)/(Mrd-Mcpl)*(MedSLS-Mcpl+κcpl*(Mrd-Mcpl)/(κu - κcpl))\n",
    "        plt.plot(x,MedSLS, 'ro')\n",
    "        plt.legend(loc = 'best')\n",
    "        EI = MedSLS/x\n",
    "        deflection = 5/384*SLSload*(span/1000)**4/EI*1000\n",
    "        deflectionmax = span/250\n",
    "        UCdef = deflection/deflectionmax\n",
    "        𝛼e = Es/Ecm\n",
    "        rho = As/(1000*d)\n",
    "        x = (-𝛼e*rho+((𝛼e*rho)**2+2*𝛼e*rho)**0.5)*d\n",
    "        z = d-x/3\n",
    "        σsr = Mr*1000000/(As*z)\n",
    "        hceff = min(2.5*(height-d), (height-x)/3)\n",
    "        rhoeff = As/(1000*hceff)\n",
    "        taubm = 2*fctm\n",
    "        σs = MedSLS*1000000/(As*z)\n",
    "        𝛼 = 0.3\n",
    "        wmax = 1/2 * fctm/taubm * rebar/ rhoeff * 1 / Es *(σs - 𝛼*σsr) \n",
    "        UCw = wmax/0.4\n",
    "        sawspeed = 5.4 \n",
    "        hoistspeed = 1/0.24 #elements per hour \n",
    "        amount = round(area/(width/1000*span/1000))   \n",
    "        hours = ((3*span/1000+4*width/1000)/2) *amount /sawspeed\n",
    "        MKIsawing = hours*4.7805 #Value is taken from the NMD\n",
    "        hours2 = amount*0.24 \n",
    "        if cranetype == 'Diesel':\n",
    "            hoist = 15.935    #Value is taken from the NMD\n",
    "        if cranetype == 'Hybrid':\n",
    "            hoist = 11.1545   #Value is taken from the NMD\n",
    "        MKIhoisting = hours2*hoist\n",
    "        MKItopping = area*4.549083 #basis is NMD\n",
    "        MKIprefab = area*2.91808 #basis is NMD\n",
    "        MKInew = MKItopping+MKIprefab\n",
    "        costnew = area*111\n",
    "        costtrad = area*43.78\n",
    "        costsaw = ((3*span/1000+4*width/1000)/2) *amount*65.5\n",
    "        hoistcost = amount*61.14\n",
    "        coststamp = area*8.22\n",
    "        #mapping the reinforcement\n",
    "        map = area*0.74\n",
    "        #drilling cores\n",
    "        cores = area/100*63\n",
    "        #testing\n",
    "        testing = area/100*70\n",
    "        #chopping \n",
    "        chop = 10*175 \n",
    "        #steel\n",
    "        steel = 10*245 \n",
    "        test = map+cores+testing+chop+steel\n",
    "        costcirc = (costsaw+coststamp+hoistcost+test)\n",
    "        fig = plt.figure(figsize=[8,6])\n",
    "        ax = fig.add_axes([0,0,1,1])\n",
    "        labels = ['UCMed', 'UCVed', 'UCdeflection', 'UCcrackwidth']\n",
    "        UCs = [UCMed, UCVed, UCdef, UCw]\n",
    "        plt.title('UC values')\n",
    "        colors = [0,0,0,0]\n",
    "        for i in range(len(UCs)):\n",
    "            if UCs[i] < 1:\n",
    "                colors[i] = 'green'\n",
    "            else:\n",
    "                colors[i]= 'red'\n",
    "        ax.bar(labels, UCs, color = colors)\n",
    "        plt.axhline(1, color = 'red', linestyle = 'dashed', label = 'Maxumum UC = 1')\n",
    "        plt.legend(loc = 'best')\n",
    "        plt.show()\n",
    "        plt.figure(figsize=[8,6])\n",
    "        plt.bar([0],[MKIsawing], bottom = [0], align = 'center', color = ['green'], label = 'ECI related to sawing')\n",
    "        plt.bar([0],[ MKIhoisting], bottom = [MKIsawing], align = 'center', color = ['blue'], label = 'ECI related to hoisting')\n",
    "        plt.bar([1],[ MKInew], bottom = [0], align = 'center', color = ['purple'], label = 'ECI of new floor')\n",
    "        plt.xticks ([0,1] , ['ECI of reused floor', 'ECI of new floor']);\n",
    "        plt.ylabel ('ECI in €')\n",
    "        plt.title ('Envrionmental impact of reused and new floor')\n",
    "        plt.legend(loc='best');\n",
    "        plt.figure(figsize=[15,6])\n",
    "        plt.subplot(1,2,1)\n",
    "        plt.bar([0],[costsaw], bottom = [0], align = 'center', color = ['yellow'], label = 'Sawing costs')\n",
    "        plt.bar([0],[hoistcost], bottom = [costsaw], align = 'center', color = ['blue'], label = 'Hoisting costs')\n",
    "        plt.bar([0],[test], bottom = [costsaw+hoistcost], align = 'center', color = ['green'], label = 'Testing costs')\n",
    "        plt.bar([0],[coststamp], bottom = [costsaw+hoistcost+test], align = 'center', color = ['orange'], label = 'Stamping costs')\n",
    "        plt.bar([1],[costtrad], bottom = [0], align = 'center', color = ['brown'], label = 'Costs of traditional demolition')\n",
    "        plt.bar([2],[costnew], bottom = [0], align = 'center', color = ['purple'], label = 'Costs of new floor')\n",
    "\n",
    "        plt.xticks ([0,1,2] , ['Costs of reused floor', 'Traditional demolition', 'Cost of new floor']);\n",
    "        plt.ylabel ('Costs in €')\n",
    "        plt.title ('Costs of reused and new floor')\n",
    "        plt.legend(loc='best');\n",
    "\n",
    "        plt.subplot(1,2,2)\n",
    "        plt.bar([0],[costsaw+hoistcost+test+coststamp-costtrad], bottom = [0], align = 'center', color = ['grey'], label = 'Ruesed costs - traditional demolition')\n",
    "        plt.bar([1],[costnew], bottom = [0], align = 'center', color = ['purple'], label = 'Costs of new floor')\n",
    "\n",
    "        plt.xticks ([0,1,] , ['Reused - traditional', 'Cost of new floor']);\n",
    "        plt.ylabel ('Costs in €')\n",
    "        plt.title ('Costs of reused and new floor')\n",
    "        plt.legend(loc='best');\n",
    "        show_inline_matplotlib_plots()\n",
    "        print('The potential benefit, when combining environmental impact and costs, is: €',MKInew-MKIsawing-MKIhoisting-(costsaw+hoistcost+test+coststamp-costnew-costtrad) )\n",
    "        \n",
    "        km = (MKInew-MKIsawing-MKIhoisting)/0.05/0.12\n",
    "        wereld = round(km/40000)\n",
    "        print('The amount of CO2 which is potentially saved equals' ,wereld , 'trips around the world by car.'  )\n",
    "\n",
    "        mix = round(area*height/1000/10)\n",
    "        print('When the floor elements are reused, there is no need to produce' ,mix , 'truck mixers full of new concrete.'  )\n",
    "        \n",
    "        \n",
    "        \n",
    "button_send.on_click(on_button_clicked)\n",
    "\n",
    "vbox_result = widgets.VBox([button_send, output])\n",
    "display(vbox_result)  "
   ]
  },
  {
   "cell_type": "code",
   "execution_count": null,
   "id": "184c992f",
   "metadata": {},
   "outputs": [],
   "source": []
  },
  {
   "cell_type": "code",
   "execution_count": null,
   "id": "1b1d04f4",
   "metadata": {},
   "outputs": [],
   "source": []
  },
  {
   "cell_type": "code",
   "execution_count": null,
   "id": "d4dab448",
   "metadata": {},
   "outputs": [],
   "source": []
  },
  {
   "cell_type": "code",
   "execution_count": null,
   "id": "87a7a88c",
   "metadata": {},
   "outputs": [],
   "source": []
  }
 ],
 "metadata": {
  "hide_input": false,
  "kernelspec": {
   "display_name": "Python 3 (ipykernel)",
   "language": "python",
   "name": "python3"
  },
  "language_info": {
   "codemirror_mode": {
    "name": "ipython",
    "version": 3
   },
   "file_extension": ".py",
   "mimetype": "text/x-python",
   "name": "python",
   "nbconvert_exporter": "python",
   "pygments_lexer": "ipython3",
   "version": "3.8.13"
  }
 },
 "nbformat": 4,
 "nbformat_minor": 5
}
